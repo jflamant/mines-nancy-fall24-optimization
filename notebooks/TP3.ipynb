{
 "cells": [
  {
   "cell_type": "markdown",
   "metadata": {},
   "source": [
    "# Mines Nancy - Fall 2024 - Numerical Optimization \n",
    "----\n",
    "## TP3: solving constrained optimization algorithms with CVXPY\n",
    "\n",
    "This is a complement to session 8. It implements several examples seen in class. \n",
    "\n",
    "\n",
    "Practical implementation of the algorithms relies on  Python libraries:\n",
    "1. **NumPy**: For efficient numerical computations, matrix operations, and solving least-squares problems using built-in linear algebra functions.\n",
    "2. **Matplotlib**: For visualizing the data and displaying / interpreting results.\n",
    "3. **Scipy**: a NumPy-based python library for scientific computations. \n",
    "4. **cvxpy**: DCP programming in Python. \n",
    "\n",
    "### Running the Notebook\n",
    "This notebook can be executed in the following environments:\n",
    "- **Google Colab**: A convenient, cloud-based option that requires no setup. Simply open the notebook in Colab, and you're ready to run the code.\n",
    "- **Locally**: You can run the notebook on your local machine using environments like **JupyterLab** or **Jupyter Notebook**. You can also run it directly in **Visual Studio Code** if you have the Jupyter extension. In all cases, ensure you have Python installed along with the required libraries, `NumPy` and `Matplotlib`, ``scipy`` and ``cvxpy``. "
   ]
  },
  {
   "cell_type": "markdown",
   "metadata": {},
   "source": [
    "## Using CVXPY\n",
    "\n",
    "Remember to check the documentation here: https://www.cvxpy.org/. We'll use CVXPy to solve the following optimization problem:\n",
    "$$ \\begin{split}\n",
    "\\operatorname{minimize}&\\quad (x_1-2)^2+(x_2-1)^2\\\\\n",
    "  \\text{subject to}&\\quad x_1^2 - x_2 \\leq 0\\\\\n",
    "  &\\quad x_1+x_2\\leq 2 \n",
    "  \\end{split}\n",
    "  $$"
   ]
  },
  {
   "cell_type": "code",
   "execution_count": 36,
   "metadata": {},
   "outputs": [],
   "source": [
    "# load libraries\n",
    "import numpy as np\n",
    "import matplotlib.pyplot as plt\n",
    "import cvxpy as cvx"
   ]
  },
  {
   "cell_type": "code",
   "execution_count": 37,
   "metadata": {},
   "outputs": [],
   "source": [
    "# construct the problem \n",
    "# variables\n",
    "x1 = cvx.Variable()\n",
    "x2 = cvx.Variable()\n",
    "\n",
    "# constraints \n",
    "constraint_1 = [x1**2 -x2 <= 0]\n",
    "constraint_2 = [x1+x2 <= 2]\n",
    "constraints = constraint_1 + constraint_2\n",
    "\n",
    "# objective \n",
    "obj = cvx.Minimize((x1-2)**2 + (x2-1)**2)\n",
    "\n",
    "# define problem \n",
    "prob = cvx.Problem(obj, constraints)"
   ]
  },
  {
   "cell_type": "code",
   "execution_count": 38,
   "metadata": {},
   "outputs": [
    {
     "name": "stdout",
     "output_type": "stream",
     "text": [
      "===============================================================================\n",
      "                                     CVXPY                                     \n",
      "                                     v1.6.0                                    \n",
      "===============================================================================\n",
      "(CVXPY) Dec 09 03:51:51 PM: Your problem has 2 variables, 2 constraints, and 0 parameters.\n",
      "(CVXPY) Dec 09 03:51:51 PM: It is compliant with the following grammars: DCP, DQCP\n",
      "(CVXPY) Dec 09 03:51:51 PM: (If you need to solve this problem multiple times, but with different data, consider using parameters.)\n",
      "(CVXPY) Dec 09 03:51:51 PM: CVXPY will first compile your problem; then, it will invoke a numerical solver to obtain a solution.\n",
      "(CVXPY) Dec 09 03:51:51 PM: Your problem is compiled with the CPP canonicalization backend.\n",
      "-------------------------------------------------------------------------------\n",
      "                                  Compilation                                  \n",
      "-------------------------------------------------------------------------------\n",
      "(CVXPY) Dec 09 03:51:51 PM: Compiling problem (target solver=SCS).\n",
      "(CVXPY) Dec 09 03:51:51 PM: Reduction chain: Dcp2Cone -> CvxAttr2Constr -> ConeMatrixStuffing -> SCS\n",
      "(CVXPY) Dec 09 03:51:51 PM: Applying reduction Dcp2Cone\n",
      "(CVXPY) Dec 09 03:51:51 PM: Applying reduction CvxAttr2Constr\n",
      "(CVXPY) Dec 09 03:51:51 PM: Applying reduction ConeMatrixStuffing\n",
      "(CVXPY) Dec 09 03:51:51 PM: Applying reduction SCS\n",
      "(CVXPY) Dec 09 03:51:51 PM: Finished problem compilation (took 5.535e-03 seconds).\n",
      "-------------------------------------------------------------------------------\n",
      "                                Numerical solver                               \n",
      "-------------------------------------------------------------------------------\n",
      "(CVXPY) Dec 09 03:51:51 PM: Invoking solver SCS  to obtain a solution.\n",
      "------------------------------------------------------------------\n",
      "\t       SCS v3.2.7 - Splitting Conic Solver\n",
      "\t(c) Brendan O'Donoghue, Stanford University, 2012\n",
      "------------------------------------------------------------------\n",
      "problem:  variables n: 5, constraints m: 7\n",
      "cones: \t  z: primal zero / dual free vars: 2\n",
      "\t  l: linear vars: 2\n",
      "\t  q: soc vars: 3, qsize: 1\n",
      "settings: eps_abs: 1.0e-10, eps_rel: 1.0e-10, eps_infeas: 1.0e-07\n",
      "\t  alpha: 1.50, scale: 1.00e-01, adaptive_scale: 1\n",
      "\t  max_iters: 1000, normalize: 1, rho_x: 1.00e-06\n",
      "\t  acceleration_lookback: 10, acceleration_interval: 10\n",
      "lin-sys:  sparse-direct-amd-qdldl\n",
      "\t  nnz(A): 11, nnz(P): 2\n",
      "------------------------------------------------------------------\n",
      " iter | pri res | dua res |   gap   |   obj   |  scale  | time (s)\n",
      "------------------------------------------------------------------\n",
      "     0| 3.40e+00  5.99e-01  1.32e+00  9.14e-01  1.00e-01  5.34e-04 \n",
      "   150| 1.16e-15  3.08e-16  9.42e-16  1.00e+00  8.72e-01  6.86e-04 \n",
      "------------------------------------------------------------------\n",
      "status:  solved\n",
      "timings: total: 6.89e-04s = setup: 2.72e-04s + solve: 4.17e-04s\n",
      "\t lin-sys: 1.99e-05s, cones: 5.31e-06s, accel: 2.19e-06s\n",
      "------------------------------------------------------------------\n",
      "objective = 1.000000\n",
      "------------------------------------------------------------------\n",
      "-------------------------------------------------------------------------------\n",
      "                                    Summary                                    \n",
      "-------------------------------------------------------------------------------\n",
      "(CVXPY) Dec 09 03:51:51 PM: Problem status: optimal\n",
      "(CVXPY) Dec 09 03:51:51 PM: Optimal value: 1.000e+00\n",
      "(CVXPY) Dec 09 03:51:51 PM: Compilation took 5.535e-03 seconds\n",
      "(CVXPY) Dec 09 03:51:51 PM: Solver (including time spent in interface) took 1.364e-03 seconds\n"
     ]
    },
    {
     "data": {
      "text/plain": [
       "np.float64(0.9999999999999996)"
      ]
     },
     "execution_count": 38,
     "metadata": {},
     "output_type": "execute_result"
    }
   ],
   "source": [
    "# solve problem \n",
    "\n",
    "# there are many options; see docs for reference. \n",
    "# solver = cvx.SCS; use a specific solver; if not precised, cvxpy will call the best solver available for the given problem;\n",
    "# verbose = True; activates display of what's happening behind the instruction. \n",
    "# eps=1e-10: fixes the tolerance for deciding convergence. \n",
    "# max_iters=1000; fixes the maximal number of iterations\n",
    "#\n",
    "\n",
    "\n",
    "prob.solve(solver=cvx.SCS, verbose=True, eps=1e-10, max_iters=1000) "
   ]
  },
  {
   "cell_type": "code",
   "execution_count": 39,
   "metadata": {},
   "outputs": [
    {
     "name": "stdout",
     "output_type": "stream",
     "text": [
      "SolverStats(solver_name='SCS', solve_time=0.00041675, setup_time=0.00027225, num_iters=150, extra_stats={'x': array([-1.0000000e+00, -1.3035478e-15,  1.0000000e+00,  1.0000000e+00,\n",
      "        1.0000000e+00]), 'y': array([-2.00000000e+00, -2.61221152e-15,  6.66666667e-01,  6.66666667e-01,\n",
      "        6.66666667e-01,  2.24390407e-16, -6.66666667e-01]), 's': array([ 0.00000000e+00,  0.00000000e+00,  0.00000000e+00,  0.00000000e+00,\n",
      "        2.00000000e+00, -6.73171222e-16,  2.00000000e+00]), 'info': {'status_val': 1, 'iter': 150, 'scale_updates': 1, 'scale': 0.8720805388040477, 'pobj': 0.999999999999998, 'dobj': 0.9999999999999989, 'res_pri': 1.160690296847597e-15, 'res_dual': 3.084935444956264e-16, 'gap': 9.420554557498517e-16, 'res_infeas': 1.0000000000000007, 'res_unbdd_a': nan, 'res_unbdd_p': nan, 'comp_slack': 0.0, 'solve_time': 0.41675, 'setup_time': 0.27225, 'lin_sys_time': 0.019941000000000004, 'cone_time': 0.005310999999999999, 'accel_time': 0.0021899999999999997, 'rejected_accel_steps': 0, 'accepted_accel_steps': 0, 'status': 'solved'}})\n"
     ]
    }
   ],
   "source": [
    "# we can access several indicators trough attributes of prob instance\n",
    "\n",
    "print(prob.solver_stats)"
   ]
  },
  {
   "cell_type": "code",
   "execution_count": 40,
   "metadata": {},
   "outputs": [
    {
     "name": "stdout",
     "output_type": "stream",
     "text": [
      "Number of iterations: 150\n",
      "Optimal value: 0.999999999999998\n",
      "Optimal solution: 1.0000000000000002 0.9999999999999984\n"
     ]
    }
   ],
   "source": [
    "print(\"Number of iterations:\", prob.solver_stats.num_iters)\n",
    "print(\"Optimal value:\", prob.solution.opt_val)\n",
    "print(\"Optimal solution:\", x1.value, x2.value)"
   ]
  },
  {
   "cell_type": "code",
   "execution_count": 41,
   "metadata": {},
   "outputs": [
    {
     "name": "stdout",
     "output_type": "stream",
     "text": [
      "{'x': array([-1.0000000e+00, -1.3035478e-15,  1.0000000e+00,  1.0000000e+00,\n",
      "        1.0000000e+00]), 'y': array([-2.00000000e+00, -2.61221152e-15,  6.66666667e-01,  6.66666667e-01,\n",
      "        6.66666667e-01,  2.24390407e-16, -6.66666667e-01]), 's': array([ 0.00000000e+00,  0.00000000e+00,  0.00000000e+00,  0.00000000e+00,\n",
      "        2.00000000e+00, -6.73171222e-16,  2.00000000e+00]), 'info': {'status_val': 1, 'iter': 150, 'scale_updates': 1, 'scale': 0.8720805388040477, 'pobj': 0.999999999999998, 'dobj': 0.9999999999999989, 'res_pri': 1.160690296847597e-15, 'res_dual': 3.084935444956264e-16, 'gap': 9.420554557498517e-16, 'res_infeas': 1.0000000000000007, 'res_unbdd_a': nan, 'res_unbdd_p': nan, 'comp_slack': 0.0, 'solve_time': 0.41675, 'setup_time': 0.27225, 'lin_sys_time': 0.019941000000000004, 'cone_time': 0.005310999999999999, 'accel_time': 0.0021899999999999997, 'rejected_accel_steps': 0, 'accepted_accel_steps': 0, 'status': 'solved'}}\n"
     ]
    }
   ],
   "source": [
    "# can print also some solver specifics info  iterates\n",
    "print(prob.solver_stats.extra_stats)"
   ]
  },
  {
   "cell_type": "markdown",
   "metadata": {},
   "source": [
    "### Another example with CVXPy, large scale non-negative least squares\n",
    "\n",
    "$$ \\begin{split}\n",
    "\\operatorname{minimize}&\\quad \\Vert Ax - b\\Vert_2^2\\\\\n",
    "  \\text{subject to}&\\quad x \\geq 0\n",
    "  \\end{split}\n",
    "  $$\n",
    "where $A\\in \\mathbb{R}^{1000 \\times 500}$"
   ]
  },
  {
   "cell_type": "code",
   "execution_count": 42,
   "metadata": {},
   "outputs": [],
   "source": [
    "np.random.seed(1023)\n",
    "M, N = 1000, 500\n",
    "\n",
    "A = np.random.randn(M, N)\n",
    "b = np.random.randn(M)\n",
    "\n",
    "# define variable \n",
    "x = cvx.Variable(N)\n",
    "\n",
    "# constraint\n",
    "constraints = [x >= 0]\n",
    "\n",
    "# obj \n",
    "obj = cvx.Minimize(cvx.norm2(A @x- b)**2)\n",
    "\n",
    "# problem definition\n",
    "\n",
    "prob = cvx.Problem(obj, constraints)\n"
   ]
  },
  {
   "cell_type": "code",
   "execution_count": 43,
   "metadata": {},
   "outputs": [
    {
     "name": "stdout",
     "output_type": "stream",
     "text": [
      "===============================================================================\n",
      "                                     CVXPY                                     \n",
      "                                     v1.6.0                                    \n",
      "===============================================================================\n",
      "(CVXPY) Dec 09 03:51:56 PM: Your problem has 500 variables, 500 constraints, and 0 parameters.\n",
      "(CVXPY) Dec 09 03:51:56 PM: It is compliant with the following grammars: DCP, DQCP\n",
      "(CVXPY) Dec 09 03:51:56 PM: (If you need to solve this problem multiple times, but with different data, consider using parameters.)\n",
      "(CVXPY) Dec 09 03:51:56 PM: CVXPY will first compile your problem; then, it will invoke a numerical solver to obtain a solution.\n",
      "(CVXPY) Dec 09 03:51:56 PM: Your problem is compiled with the CPP canonicalization backend.\n",
      "-------------------------------------------------------------------------------\n",
      "                                  Compilation                                  \n",
      "-------------------------------------------------------------------------------\n",
      "(CVXPY) Dec 09 03:51:56 PM: Compiling problem (target solver=CLARABEL).\n",
      "(CVXPY) Dec 09 03:51:56 PM: Reduction chain: Dcp2Cone -> CvxAttr2Constr -> ConeMatrixStuffing -> CLARABEL\n",
      "(CVXPY) Dec 09 03:51:56 PM: Applying reduction Dcp2Cone\n",
      "(CVXPY) Dec 09 03:51:56 PM: Applying reduction CvxAttr2Constr\n",
      "(CVXPY) Dec 09 03:51:56 PM: Applying reduction ConeMatrixStuffing\n",
      "(CVXPY) Dec 09 03:51:56 PM: Applying reduction CLARABEL\n",
      "(CVXPY) Dec 09 03:51:56 PM: Finished problem compilation (took 9.839e-02 seconds).\n",
      "-------------------------------------------------------------------------------\n",
      "                                Numerical solver                               \n",
      "-------------------------------------------------------------------------------\n",
      "(CVXPY) Dec 09 03:51:56 PM: Invoking solver CLARABEL  to obtain a solution.\n",
      "-------------------------------------------------------------\n",
      "           Clarabel.rs v0.9.0  -  Clever Acronym                \n",
      "\n",
      "                   (c) Paul Goulart                          \n",
      "                University of Oxford, 2022                   \n",
      "-------------------------------------------------------------\n",
      "\n",
      "problem:\n",
      "  variables     = 501\n",
      "  constraints   = 1501\n",
      "  nnz(P)        = 1\n",
      "  nnz(A)        = 500501\n",
      "  cones (total) = 2\n",
      "    : Nonnegative = 1,  numel = 500\n",
      "    : SecondOrder = 1,  numel = 1001\n",
      "\n",
      "settings:\n",
      "  linear algebra: direct / qdldl, precision: 64 bit\n",
      "  max iter = 200, time limit = Inf,  max step = 0.990\n",
      "  tol_feas = 1.0e-8, tol_gap_abs = 1.0e-8, tol_gap_rel = 1.0e-8,\n",
      "  static reg : on, ϵ1 = 1.0e-8, ϵ2 = 4.9e-32\n",
      "  dynamic reg: on, ϵ = 1.0e-13, δ = 2.0e-7\n",
      "  iter refine: on, reltol = 1.0e-13, abstol = 1.0e-12,\n",
      "               max iter = 10, stop ratio = 5.0\n",
      "  equilibrate: on, min_scale = 1.0e-4, max_scale = 1.0e4\n",
      "               max iter = 10\n",
      "\n",
      "iter    pcost        dcost       gap       pres      dres      k/t        μ       step      \n",
      "---------------------------------------------------------------------------------------------\n",
      "  0  +0.0000e+00  +1.5086e+02  1.51e+02  9.53e-01  3.26e+00  1.00e+00  1.72e+02   ------   \n",
      "  1  +3.2878e+03  -1.2215e+03  3.69e+00  8.65e-01  2.05e+00  1.10e+03  1.20e+02  9.90e-01  \n",
      "  2  +5.1625e+02  +1.0336e+02  3.99e+00  6.02e-01  7.36e-01  2.46e+03  5.11e+01  9.90e-01  \n",
      "  3  +5.7416e+02  +2.4776e+02  1.32e+00  1.18e-01  1.02e-01  1.79e+01  8.34e+00  8.51e-01  \n",
      "  4  +5.7016e+02  +4.5792e+02  2.45e-01  4.23e-02  4.15e-02  6.52e+00  4.48e+00  7.24e-01  \n",
      "  5  +5.5258e+02  +4.8941e+02  1.29e-01  2.41e-02  2.34e-02  3.64e+00  2.53e+00  6.17e-01  \n",
      "  6  +5.8118e+02  +5.2867e+02  9.93e-02  1.95e-02  1.69e-02  3.60e+00  1.62e+00  4.97e-01  \n",
      "  7  +6.2056e+02  +5.8149e+02  6.72e-02  1.33e-02  1.25e-02  1.60e+00  1.47e+00  2.90e-01  \n",
      "  8  +6.0774e+02  +5.7785e+02  5.17e-02  1.03e-02  9.35e-03  1.24e+00  1.04e+00  5.88e-01  \n",
      "  9  +6.3491e+02  +6.1353e+02  3.48e-02  7.01e-03  5.71e-03  8.96e-01  6.15e-01  5.56e-01  \n",
      " 10  +6.5780e+02  +6.4990e+02  1.22e-02  2.38e-03  2.04e-03  1.97e-01  2.50e-01  8.59e-01  \n",
      " 11  +6.7434e+02  +6.6954e+02  7.18e-03  1.37e-03  1.09e-03  1.16e-01  1.35e-01  5.79e-01  \n",
      " 12  +6.7757e+02  +6.7505e+02  3.73e-03  7.14e-04  5.80e-04  6.17e-02  7.46e-02  6.31e-01  \n",
      " 13  +6.8662e+02  +6.8585e+02  1.13e-03  2.00e-04  1.65e-04  1.35e-02  2.31e-02  8.30e-01  \n",
      " 14  +6.8786e+02  +6.8766e+02  3.00e-04  5.31e-05  4.37e-05  3.96e-03  6.13e-03  8.01e-01  \n",
      " 15  +6.8865e+02  +6.8862e+02  5.48e-05  9.62e-06  7.84e-06  8.07e-04  1.10e-03  8.93e-01  \n",
      " 16  +6.8879e+02  +6.8878e+02  4.25e-06  7.43e-07  6.06e-07  6.31e-05  8.51e-05  9.41e-01  \n",
      " 17  +6.8880e+02  +6.8880e+02  2.97e-07  5.19e-08  4.24e-08  4.45e-06  5.97e-06  9.44e-01  \n",
      " 18  +6.8880e+02  +6.8880e+02  2.68e-08  4.68e-09  3.82e-09  4.02e-07  5.37e-07  9.15e-01  \n",
      " 19  +6.8880e+02  +6.8880e+02  2.43e-09  4.25e-10  3.47e-10  3.71e-08  4.87e-08  9.33e-01  \n",
      "---------------------------------------------------------------------------------------------\n",
      "Terminated with status = Solved\n",
      "solve time = 2.330501917s\n",
      "-------------------------------------------------------------------------------\n",
      "                                    Summary                                    \n",
      "-------------------------------------------------------------------------------\n",
      "(CVXPY) Dec 09 03:51:59 PM: Problem status: optimal\n",
      "(CVXPY) Dec 09 03:51:59 PM: Optimal value: 6.888e+02\n",
      "(CVXPY) Dec 09 03:51:59 PM: Compilation took 9.839e-02 seconds\n",
      "(CVXPY) Dec 09 03:51:59 PM: Solver (including time spent in interface) took 2.389e+00 seconds\n"
     ]
    },
    {
     "data": {
      "text/plain": [
       "688.8007521659797"
      ]
     },
     "execution_count": 43,
     "metadata": {},
     "output_type": "execute_result"
    }
   ],
   "source": [
    "prob.solve(verbose=True) #solve problem"
   ]
  },
  {
   "cell_type": "code",
   "execution_count": 44,
   "metadata": {},
   "outputs": [
    {
     "data": {
      "text/plain": [
       "[<matplotlib.lines.Line2D at 0x134c4e710>]"
      ]
     },
     "execution_count": 44,
     "metadata": {},
     "output_type": "execute_result"
    },
    {
     "data": {
      "image/png": "[encoded data removed]",
      "text/plain": [
       "<Figure size 640x480 with 1 Axes>"
      ]
     },
     "metadata": {},
     "output_type": "display_data"
    }
   ],
   "source": [
    "# display solution \n",
    "plt.plot(x.value)"
   ]
  },
  {
   "cell_type": "code",
   "execution_count": null,
   "metadata": {},
   "outputs": [],
   "source": []
  }
 ],
 "metadata": {
  "kernelspec": {
   "display_name": ".venv",
   "language": "python",
   "name": "python3"
  },
  "language_info": {
   "codemirror_mode": {
    "name": "ipython",
    "version": 3
   },
   "file_extension": ".py",
   "mimetype": "text/x-python",
   "name": "python",
   "nbconvert_exporter": "python",
   "pygments_lexer": "ipython3",
   "version": "3.11.1"
  }
 },
 "nbformat": 4,
 "nbformat_minor": 2
}
